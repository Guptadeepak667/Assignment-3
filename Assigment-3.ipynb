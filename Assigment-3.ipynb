{
 "cells": [
  {
   "cell_type": "markdown",
   "id": "fbc48750",
   "metadata": {},
   "source": [
    "### Assignment-3"
   ]
  },
  {
   "cell_type": "markdown",
   "id": "a1f6cc86",
   "metadata": {},
   "source": [
    "### Que1:- Why are functions advantageous to have in your programs?"
   ]
  },
  {
   "cell_type": "markdown",
   "id": "47908499",
   "metadata": {},
   "source": [
    "Ans : \n",
    "Functions are advantageous to have in your programs for several reasons:\n",
    "    \n",
    "1. Modularity: Functions allow you to break down your program into smaller, more manageable pieces. Each function can encapsulate a specific task or functionality, making your code easier to read, understand, and maintain. This modularity promotes code reusability and simplifies the development and debugging process.\n",
    "\n",
    "2. Code Reusability: Once you've defined a function, you can call it multiple times throughout your program without having to rewrite the same code. This reduces redundancy and promotes efficient code reuse, saving time and effort.\n",
    "\n",
    "3. Abstraction: Functions provide a level of abstraction. You can use functions without needing to understand their internal implementation. This allows for clear separation between the \"what\" (the function's purpose) and the \"how\" (the actual code inside the function).\n",
    "\n",
    "4. Testing and Debugging: Functions allow you to isolate specific pieces of code for testing and debugging. You can focus on individual functions, making it easier to identify and fix issues without affecting other parts of your program.\n",
    "\n",
    "5. Readability: Well-named functions improve code readability and maintainability. Functions with descriptive names serve as self-documenting units of code, making it clear what the code does without extensive comments.\n",
    "\n",
    "6. Parameterization: Functions can take parameters (input values) and return results. This allows you to create flexible and dynamic code that can adapt to different situations. Parameters enable you to pass data to a function, and return values allow a function to communicate its results back to the caller.\n",
    "\n",
    "7. Scoping: Functions create their own variable scope, preventing naming conflicts between variables with the same name in different functions. This local scope ensures that variables within a function do not interfere with variables outside of it.\n",
    "\n",
    "8. Code Organization: Functions help organize your code logically. You can group related code into functions, making it easier to locate and manage specific parts of your program.\n",
    "\n",
    "9. Collaboration: In collaborative software development, functions allow different team members to work on separate components of a program independently. Each person can focus on their assigned functions, leading to more efficient teamwork.\n",
    "\n",
    "10. Testing Isolation: Functions can be unit-tested in isolation, allowing you to test individual pieces of your code without running the entire program. This aids in identifying and fixing issues early in the development process.\n",
    "\n",
    "11. Code Documentation: Functions can be documented with docstrings, which provide information about their purpose, parameters, and expected return values. This documentation helps other developers understand how to use the functions effectively.\n"
   ]
  },
  {
   "cell_type": "markdown",
   "id": "31e62162",
   "metadata": {},
   "source": [
    "### Que2:- When does the code in a function run: when it's specified or when it's called?"
   ]
  },
  {
   "cell_type": "markdown",
   "id": "b9247b15",
   "metadata": {},
   "source": [
    "Ans : \n",
    "functions serve as reusable blocks of code that are executed only when you explicitly call them.\n",
    "\n",
    "Here's the typical sequence of events:\n",
    "\n",
    "1. Function Definition: You specify the code for a function when you define or create the function. This is where you define the function's name, parameters (if any), and the code block that makes up the function's body. \n",
    "However, the code inside the function is not executed at this point; it's only defined.\n",
    "\n",
    "2. Function Call: To execute the code within the function, you need to call the function by using its name followed by parentheses.\n",
    " When you call the function, the program will jump to the function's code block and execute it.\n"
   ]
  },
  {
   "cell_type": "markdown",
   "id": "6a93471e",
   "metadata": {},
   "source": [
    "### Que3:- What statement creates a function?"
   ]
  },
  {
   "cell_type": "markdown",
   "id": "013a9bb7",
   "metadata": {},
   "source": [
    "Ans :\n",
    "the def statement is used to create (define) a function. The def statement is followed by the function name and, optionally, a list of parameters enclosed in parentheses. The function's code block is indented below the def statement. Here's the basic syntax:\n",
    "\n",
    "def function_name(parameters):\n",
    "\n",
    "def: This keyword indicates the beginning of a function definition.\n",
    "\n",
    "function_name: You provide a name for the function, which follows the same naming rules as variables. It should be a descriptive and meaningful name.\n",
    "1. parameters: You can specify zero or more parameters (input values) that the function accepts, separated by commas. \n",
    "\tIf the function doesn't take any parameters, the parentheses can be left empty.\n",
    "2. function code: This is the block of code that defines what the function does. It should be indented to indicate that it's part of the function.\n"
   ]
  },
  {
   "cell_type": "markdown",
   "id": "2e4e2d2b",
   "metadata": {},
   "source": [
    "### Que4: What is the difference between a function and a function call?"
   ]
  },
  {
   "cell_type": "markdown",
   "id": "367f985f",
   "metadata": {},
   "source": [
    "#### Function:\n",
    "1. A function is a named and reusable block of code that performs a specific task or a set of tasks.\n",
    "2. It is defined using the def keyword in Python and similar constructs in other programming languages.\n",
    "3. Functions can take input parameters, perform operations, and return a result.\n"
   ]
  },
  {
   "cell_type": "markdown",
   "id": "05c5f12a",
   "metadata": {},
   "source": [
    "#### Function Call:\n",
    "\n",
    "1. A function call is the act of invoking or executing a function that has been defined elsewhere in the code.\n",
    "2. It involves using the function's name followed by parentheses, and it may include arguments (values passed to the function parameters).\n",
    "When a function is called, the program executes the code within the function's block.\n",
    "\n",
    "Example of calling the greet function defined above:"
   ]
  },
  {
   "cell_type": "code",
   "execution_count": 5,
   "id": "3db1f268",
   "metadata": {},
   "outputs": [],
   "source": [
    "def greet(name):\n",
    "    print(f\"Hello, {name}!\")\n",
    "    greet(\"Alice\")"
   ]
  },
  {
   "cell_type": "markdown",
   "id": "1d361b17",
   "metadata": {},
   "source": [
    "### Que5: How many global scopes are there in a Python program? How many local scopes?"
   ]
  },
  {
   "cell_type": "markdown",
   "id": "7c7148c6",
   "metadata": {},
   "source": [
    "#### Global Scope:\n",
    "\n",
    "1. There is one global scope in a Python program.\n",
    "2. The global scope is the outermost scope and is not contained within any function or class.\n",
    "3. Variables defined in the global scope are accessible throughout the entire program."
   ]
  },
  {
   "cell_type": "code",
   "execution_count": 7,
   "id": "21517d49",
   "metadata": {},
   "outputs": [],
   "source": [
    "global_variable = 10  \n",
    "\n",
    "def some_function():\n",
    "    print(global_variable) \n"
   ]
  },
  {
   "cell_type": "markdown",
   "id": "8ccfc46a",
   "metadata": {},
   "source": [
    "#### Local Scopes:\n",
    "\n",
    "1. Local scopes are created whenever a function is called.\n",
    "2. Each function call creates a new local scope, and variables defined within that function are local to that scope.\n",
    "3. Local variables are only accessible within the function where they are defined.\n",
    "\n",
    "Example:"
   ]
  },
  {
   "cell_type": "code",
   "execution_count": 8,
   "id": "94524b1a",
   "metadata": {},
   "outputs": [
    {
     "name": "stdout",
     "output_type": "stream",
     "text": [
      "20\n"
     ]
    }
   ],
   "source": [
    "def my_function():\n",
    "    local_variable = 20  # This is in the local scope of my_function\n",
    "    print(local_variable)\n",
    "\n",
    "my_function()\n",
    "\n"
   ]
  },
  {
   "cell_type": "markdown",
   "id": "5b95e90d",
   "metadata": {},
   "source": [
    "### Que6: What happens to variables in a local scope when the function call returns?"
   ]
  },
  {
   "cell_type": "markdown",
   "id": "c05e8855",
   "metadata": {},
   "source": [
    "Ans: \n",
    "When a function call in Python returns, the local scope associated with that function is destroyed, and the variables defined within that local scope go out of scope. This means that the values assigned to those local variables are no longer accessible once the function has completed its execution.\n",
    "\n",
    "Here's an example to illustrate this:"
   ]
  },
  {
   "cell_type": "code",
   "execution_count": 9,
   "id": "5321fef4",
   "metadata": {},
   "outputs": [
    {
     "name": "stdout",
     "output_type": "stream",
     "text": [
      "Inside the function: 20\n"
     ]
    }
   ],
   "source": [
    "def my_function():\n",
    "    local_variable = 20\n",
    "    print(\"Inside the function:\", local_variable)\n",
    "\n",
    "my_function()"
   ]
  },
  {
   "cell_type": "markdown",
   "id": "f69088f5",
   "metadata": {},
   "source": [
    "### Que7: What is the concept of a return value? Is it possible to have a return value in an expression?"
   ]
  },
  {
   "cell_type": "markdown",
   "id": "d3a75c7b",
   "metadata": {},
   "source": [
    "Ans: \n",
    "\n",
    "The concept of a return value is fundamental in programming and refers to the value that a function provides as output when it is called. When a function is executed, it can perform computations, process data, and then pass back a result to the caller using the return statement.\n",
    "\n",
    "Here's a simple example:\n"
   ]
  },
  {
   "cell_type": "code",
   "execution_count": 10,
   "id": "1995bad8",
   "metadata": {},
   "outputs": [
    {
     "name": "stdout",
     "output_type": "stream",
     "text": [
      "The sum is: 7\n"
     ]
    }
   ],
   "source": [
    "def add_numbers(a, b):\n",
    "    result = a + b\n",
    "    return result\n",
    "\n",
    "sum_result = add_numbers(3, 4)\n",
    "print(\"The sum is:\", sum_result)\n"
   ]
  },
  {
   "cell_type": "markdown",
   "id": "9893339a",
   "metadata": {},
   "source": [
    "Regarding the second part of your question, yes, it is possible to use a function's return value in an expression. This is a common practice, and it allows you to directly incorporate the result of a function call into other calculations or operations. \n",
    "\n",
    "Here's an example:"
   ]
  },
  {
   "cell_type": "code",
   "execution_count": 11,
   "id": "4388e39f",
   "metadata": {},
   "outputs": [
    {
     "name": "stdout",
     "output_type": "stream",
     "text": [
      "The result is: 35\n"
     ]
    }
   ],
   "source": [
    "def square(number):\n",
    "    return number ** 2\n",
    "\n",
    "result = square(5) + 10\n",
    "print(\"The result is:\", result)\n"
   ]
  },
  {
   "cell_type": "markdown",
   "id": "3393fdf6",
   "metadata": {},
   "source": [
    "### Que8: If a function does not have a return statement, what is the return value of a call to that function?"
   ]
  },
  {
   "cell_type": "markdown",
   "id": "c63f4f6e",
   "metadata": {},
   "source": [
    "Ans:\n",
    "If a function in Python does not have a return statement, or if the return statement is without an expression, the function automatically returns a special value called None. None is a built-in constant in Python that represents the absence of a value or a null value.\n",
    "\n",
    "Here's an example:"
   ]
  },
  {
   "cell_type": "code",
   "execution_count": 12,
   "id": "c01a33cd",
   "metadata": {},
   "outputs": [
    {
     "name": "stdout",
     "output_type": "stream",
     "text": [
      "This function does not have a return statement.\n",
      "The result of the function call: None\n"
     ]
    }
   ],
   "source": [
    "def my_function():\n",
    "    print(\"This function does not have a return statement.\")\n",
    "\n",
    "result = my_function()\n",
    "\n",
    "print(\"The result of the function call:\", result)\n"
   ]
  },
  {
   "cell_type": "markdown",
   "id": "fb0e2547",
   "metadata": {},
   "source": [
    "### Que9: How do you make a function variable refer to the global variable?"
   ]
  },
  {
   "cell_type": "markdown",
   "id": "aa568625",
   "metadata": {},
   "source": [
    "Ans:\n",
    "In Python, if you want a function to use a global variable instead of creating a new local variable with the same name, you can use the global keyword within the function. This informs Python that the variable being referenced is a global variable, not a local one.\n",
    "\n",
    "Here's an example:"
   ]
  },
  {
   "cell_type": "code",
   "execution_count": 13,
   "id": "c0ff2612",
   "metadata": {},
   "outputs": [
    {
     "name": "stdout",
     "output_type": "stream",
     "text": [
      "Inside the function: 10\n",
      "Outside the function: 10\n"
     ]
    }
   ],
   "source": [
    "global_variable = 10\n",
    "\n",
    "def use_global_variable():\n",
    "    global global_variable  # Use the global keyword to reference the global variable\n",
    "    print(\"Inside the function:\", global_variable)\n",
    "\n",
    "use_global_variable()\n",
    "\n",
    "print(\"Outside the function:\", global_variable)\n"
   ]
  },
  {
   "cell_type": "markdown",
   "id": "1310de08",
   "metadata": {},
   "source": [
    "### Que10: What is the data type of None?"
   ]
  },
  {
   "cell_type": "markdown",
   "id": "efaebb62",
   "metadata": {},
   "source": [
    "\n",
    "In Python, None is a special constant representing the absence of a value or a null value. The data type of None is typically called NoneType. You can check the type of None using the type() function:\n",
    "\n",
    "The NoneType is a built-in data type in Python that has only one possible value, which is None. It is commonly used to indicate that a variable or a function does not have a meaningful value or result."
   ]
  },
  {
   "cell_type": "code",
   "execution_count": 15,
   "id": "b85184c8",
   "metadata": {},
   "outputs": [
    {
     "name": "stdout",
     "output_type": "stream",
     "text": [
      "<class 'NoneType'>\n"
     ]
    }
   ],
   "source": [
    "result = None\n",
    "print(type(result))  \n"
   ]
  },
  {
   "cell_type": "markdown",
   "id": "49e3f412",
   "metadata": {},
   "source": [
    "### Que11: What does the sentence import areallyourpetsnamederic do?"
   ]
  },
  {
   "cell_type": "markdown",
   "id": "543fa8fd",
   "metadata": {},
   "source": [
    "Ans: \n",
    "\n",
    "1. The sentence \"import areallyourpetsnamederic\" is not a standard or recognized Python import statement. In Python, the \"import\" statement is used to bring modules or packages into the current namespace, allowing you to use their functionality in your code.\n",
    "\n",
    "2. The sentence you provided seems more like a humorous or nonsensical statement. It doesn't correspond to any standard Python module or package, and it wouldn't have any practical effect in a Python program unless there is a custom module named \"areallyourpetsnamederic\" that you've created.\n",
    "\n",
    "In general, valid import statements in Python would look like:\n",
    "\n",
    "import module_name\n",
    "\n",
    "from module_name import function_name\n",
    "\n",
    "import module_name as alias\n",
    "\n"
   ]
  },
  {
   "cell_type": "markdown",
   "id": "4d72967e",
   "metadata": {},
   "source": [
    "### Que12 : If you had a bacon() feature in a spam module, what would you call it after importing spam?\n"
   ]
  },
  {
   "cell_type": "markdown",
   "id": "b2067ea1",
   "metadata": {},
   "source": [
    "Ans:\n",
    "\n",
    "1.If you have a bacon() function in a module named spam and you want to use it after importing the spam module, you would call it using the following syntax:\n",
    "\n",
    "import spam\n",
    "\n",
    "spam.bacon()\n",
    "\n",
    "2. Here, spam is the name of the module, and bacon() is the function within that module. After importing the module, you can access its functions or variables by using the module name followed by a dot and the function or variable name."
   ]
  },
  {
   "cell_type": "markdown",
   "id": "d019ad2d",
   "metadata": {},
   "source": [
    "### Que13: What can you do to save a programme from crashing if it encounters an error?"
   ]
  },
  {
   "cell_type": "markdown",
   "id": "0ed9bc3b",
   "metadata": {},
   "source": [
    "Ans: \n",
    "\n",
    "Handling errors and preventing a program from crashing involves implementing proper error handling mechanisms. In Python, you can use the try, except, else, and finally blocks for this purpose. \n",
    "Here's a basic example:"
   ]
  },
  {
   "cell_type": "code",
   "execution_count": 2,
   "id": "fe68000f",
   "metadata": {},
   "outputs": [
    {
     "name": "stdout",
     "output_type": "stream",
     "text": [
      "Error: Division by zero!\n",
      "This code always runs.\n"
     ]
    }
   ],
   "source": [
    "try:\n",
    "    result = 10 / 0  \n",
    "except ZeroDivisionError:  \n",
    "    print(\"Error: Division by zero!\")\n",
    "else:\n",
    "    print(\"Result:\", result)\n",
    "finally:    \n",
    "    print(\"This code always runs.\")\n"
   ]
  },
  {
   "cell_type": "markdown",
   "id": "9a8e8167",
   "metadata": {},
   "source": [
    "### Que14: What is the purpose of the try clause? What is the purpose of the except clause? "
   ]
  },
  {
   "cell_type": "markdown",
   "id": "292189ee",
   "metadata": {},
   "source": [
    "Ans:\n",
    "The try and except clauses in Python are used for exception handling, allowing you to gracefully manage and recover from errors that might occur during the execution of your code.\n",
    "\n",
    "#### try Clause:\n",
    "\n",
    "1. The try block encloses a section of code where you anticipate that an exception might occur.\n",
    "2. Code inside the try block is executed. If an exception occurs during this execution, the control immediately transfers to the corresponding except block.\n",
    "3. The purpose of the try clause is to identify the portion of code where exceptions might occur.\n",
    "\n",
    "Example:"
   ]
  },
  {
   "cell_type": "code",
   "execution_count": 4,
   "id": "fb3d3700",
   "metadata": {},
   "outputs": [
    {
     "name": "stdout",
     "output_type": "stream",
     "text": [
      "Error: Division by zero!\n"
     ]
    }
   ],
   "source": [
    "try:\n",
    "    \n",
    "    result = 10 / 0  \n",
    "except ZeroDivisionError:\n",
    "    print(\"Error: Division by zero!\")\n"
   ]
  },
  {
   "cell_type": "markdown",
   "id": "c5dfbb88",
   "metadata": {},
   "source": [
    "#### except Clause:\n",
    "\n",
    "1. The except block follows the try block and contains code that is executed if a specific exception occurs within the try block.\n",
    "2. It specifies the type of exception to catch and provides code to handle that particular exception.\n",
    "3. You can have multiple except blocks to handle different types of exceptions or a more general except block to catch any unexpected exceptions.\n",
    "\n",
    "Example:"
   ]
  },
  {
   "cell_type": "code",
   "execution_count": 5,
   "id": "a230b2dc",
   "metadata": {},
   "outputs": [
    {
     "name": "stdout",
     "output_type": "stream",
     "text": [
      "Error: Division by zero!\n"
     ]
    }
   ],
   "source": [
    "try:\n",
    "    result = 10 / 0  \n",
    "except ZeroDivisionError:\n",
    "    print(\"Error: Division by zero!\")\n",
    "except ValueError:\n",
    "    print(\"Error: Value error!\")\n",
    "except Exception as e:\n",
    "    print(f\"An unexpected error occurred: {e}\")\n"
   ]
  }
 ],
 "metadata": {
  "kernelspec": {
   "display_name": "Python 3 (ipykernel)",
   "language": "python",
   "name": "python3"
  },
  "language_info": {
   "codemirror_mode": {
    "name": "ipython",
    "version": 3
   },
   "file_extension": ".py",
   "mimetype": "text/x-python",
   "name": "python",
   "nbconvert_exporter": "python",
   "pygments_lexer": "ipython3",
   "version": "3.11.4"
  }
 },
 "nbformat": 4,
 "nbformat_minor": 5
}
